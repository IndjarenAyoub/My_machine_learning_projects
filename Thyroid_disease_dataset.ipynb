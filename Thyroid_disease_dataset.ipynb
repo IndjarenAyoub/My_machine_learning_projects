{
 "cells": [
  {
   "cell_type": "code",
   "execution_count": 35,
   "id": "bada45e6",
   "metadata": {},
   "outputs": [],
   "source": [
    "import pandas as pd\n",
    "import seaborn as sns\n",
    "import matplotlib\n",
    "from matplotlib import pyplot as plt\n",
    "%matplotlib inline"
   ]
  },
  {
   "cell_type": "markdown",
   "id": "22396236",
   "metadata": {},
   "source": [
    "<h3 style='color:purple'>Data analysis and preprocessing</h3>"
   ]
  },
  {
   "cell_type": "code",
   "execution_count": 36,
   "id": "02bb5cdb",
   "metadata": {},
   "outputs": [
    {
     "data": {
      "text/html": [
       "<div>\n",
       "<style scoped>\n",
       "    .dataframe tbody tr th:only-of-type {\n",
       "        vertical-align: middle;\n",
       "    }\n",
       "\n",
       "    .dataframe tbody tr th {\n",
       "        vertical-align: top;\n",
       "    }\n",
       "\n",
       "    .dataframe thead th {\n",
       "        text-align: right;\n",
       "    }\n",
       "</style>\n",
       "<table border=\"1\" class=\"dataframe\">\n",
       "  <thead>\n",
       "    <tr style=\"text-align: right;\">\n",
       "      <th></th>\n",
       "      <th>Age</th>\n",
       "      <th>Gender</th>\n",
       "      <th>Smoking</th>\n",
       "      <th>Hx Smoking</th>\n",
       "      <th>Hx Radiothreapy</th>\n",
       "      <th>Thyroid Function</th>\n",
       "      <th>Physical Examination</th>\n",
       "      <th>Adenopathy</th>\n",
       "      <th>Pathology</th>\n",
       "      <th>Focality</th>\n",
       "      <th>Risk</th>\n",
       "      <th>T</th>\n",
       "      <th>N</th>\n",
       "      <th>M</th>\n",
       "      <th>Stage</th>\n",
       "      <th>Response</th>\n",
       "      <th>Recurred</th>\n",
       "    </tr>\n",
       "  </thead>\n",
       "  <tbody>\n",
       "    <tr>\n",
       "      <th>0</th>\n",
       "      <td>27</td>\n",
       "      <td>F</td>\n",
       "      <td>No</td>\n",
       "      <td>No</td>\n",
       "      <td>No</td>\n",
       "      <td>Euthyroid</td>\n",
       "      <td>Single nodular goiter-left</td>\n",
       "      <td>No</td>\n",
       "      <td>Micropapillary</td>\n",
       "      <td>Uni-Focal</td>\n",
       "      <td>Low</td>\n",
       "      <td>T1a</td>\n",
       "      <td>N0</td>\n",
       "      <td>M0</td>\n",
       "      <td>I</td>\n",
       "      <td>Indeterminate</td>\n",
       "      <td>No</td>\n",
       "    </tr>\n",
       "    <tr>\n",
       "      <th>1</th>\n",
       "      <td>34</td>\n",
       "      <td>F</td>\n",
       "      <td>No</td>\n",
       "      <td>Yes</td>\n",
       "      <td>No</td>\n",
       "      <td>Euthyroid</td>\n",
       "      <td>Multinodular goiter</td>\n",
       "      <td>No</td>\n",
       "      <td>Micropapillary</td>\n",
       "      <td>Uni-Focal</td>\n",
       "      <td>Low</td>\n",
       "      <td>T1a</td>\n",
       "      <td>N0</td>\n",
       "      <td>M0</td>\n",
       "      <td>I</td>\n",
       "      <td>Excellent</td>\n",
       "      <td>No</td>\n",
       "    </tr>\n",
       "    <tr>\n",
       "      <th>2</th>\n",
       "      <td>30</td>\n",
       "      <td>F</td>\n",
       "      <td>No</td>\n",
       "      <td>No</td>\n",
       "      <td>No</td>\n",
       "      <td>Euthyroid</td>\n",
       "      <td>Single nodular goiter-right</td>\n",
       "      <td>No</td>\n",
       "      <td>Micropapillary</td>\n",
       "      <td>Uni-Focal</td>\n",
       "      <td>Low</td>\n",
       "      <td>T1a</td>\n",
       "      <td>N0</td>\n",
       "      <td>M0</td>\n",
       "      <td>I</td>\n",
       "      <td>Excellent</td>\n",
       "      <td>No</td>\n",
       "    </tr>\n",
       "    <tr>\n",
       "      <th>3</th>\n",
       "      <td>62</td>\n",
       "      <td>F</td>\n",
       "      <td>No</td>\n",
       "      <td>No</td>\n",
       "      <td>No</td>\n",
       "      <td>Euthyroid</td>\n",
       "      <td>Single nodular goiter-right</td>\n",
       "      <td>No</td>\n",
       "      <td>Micropapillary</td>\n",
       "      <td>Uni-Focal</td>\n",
       "      <td>Low</td>\n",
       "      <td>T1a</td>\n",
       "      <td>N0</td>\n",
       "      <td>M0</td>\n",
       "      <td>I</td>\n",
       "      <td>Excellent</td>\n",
       "      <td>No</td>\n",
       "    </tr>\n",
       "    <tr>\n",
       "      <th>4</th>\n",
       "      <td>62</td>\n",
       "      <td>F</td>\n",
       "      <td>No</td>\n",
       "      <td>No</td>\n",
       "      <td>No</td>\n",
       "      <td>Euthyroid</td>\n",
       "      <td>Multinodular goiter</td>\n",
       "      <td>No</td>\n",
       "      <td>Micropapillary</td>\n",
       "      <td>Multi-Focal</td>\n",
       "      <td>Low</td>\n",
       "      <td>T1a</td>\n",
       "      <td>N0</td>\n",
       "      <td>M0</td>\n",
       "      <td>I</td>\n",
       "      <td>Excellent</td>\n",
       "      <td>No</td>\n",
       "    </tr>\n",
       "  </tbody>\n",
       "</table>\n",
       "</div>"
      ],
      "text/plain": [
       "   Age Gender Smoking Hx Smoking Hx Radiothreapy Thyroid Function  \\\n",
       "0   27      F      No         No              No        Euthyroid   \n",
       "1   34      F      No        Yes              No        Euthyroid   \n",
       "2   30      F      No         No              No        Euthyroid   \n",
       "3   62      F      No         No              No        Euthyroid   \n",
       "4   62      F      No         No              No        Euthyroid   \n",
       "\n",
       "          Physical Examination Adenopathy       Pathology     Focality Risk  \\\n",
       "0   Single nodular goiter-left         No  Micropapillary    Uni-Focal  Low   \n",
       "1          Multinodular goiter         No  Micropapillary    Uni-Focal  Low   \n",
       "2  Single nodular goiter-right         No  Micropapillary    Uni-Focal  Low   \n",
       "3  Single nodular goiter-right         No  Micropapillary    Uni-Focal  Low   \n",
       "4          Multinodular goiter         No  Micropapillary  Multi-Focal  Low   \n",
       "\n",
       "     T   N   M Stage       Response Recurred  \n",
       "0  T1a  N0  M0     I  Indeterminate       No  \n",
       "1  T1a  N0  M0     I      Excellent       No  \n",
       "2  T1a  N0  M0     I      Excellent       No  \n",
       "3  T1a  N0  M0     I      Excellent       No  \n",
       "4  T1a  N0  M0     I      Excellent       No  "
      ]
     },
     "execution_count": 36,
     "metadata": {},
     "output_type": "execute_result"
    }
   ],
   "source": [
    "df = pd.read_csv('thyroid.csv')\n",
    "df.head()"
   ]
  },
  {
   "cell_type": "code",
   "execution_count": 37,
   "id": "326d3d5b",
   "metadata": {},
   "outputs": [
    {
     "data": {
      "text/plain": [
       "(383, 17)"
      ]
     },
     "execution_count": 37,
     "metadata": {},
     "output_type": "execute_result"
    }
   ],
   "source": [
    "df.shape"
   ]
  },
  {
   "cell_type": "code",
   "execution_count": 38,
   "id": "c2fd5ade",
   "metadata": {},
   "outputs": [
    {
     "data": {
      "text/plain": [
       "Index(['Age', 'Gender', 'Smoking', 'Hx Smoking', 'Hx Radiothreapy',\n",
       "       'Thyroid Function', 'Physical Examination', 'Adenopathy', 'Pathology',\n",
       "       'Focality', 'Risk', 'T', 'N', 'M', 'Stage', 'Response', 'Recurred'],\n",
       "      dtype='object')"
      ]
     },
     "execution_count": 38,
     "metadata": {},
     "output_type": "execute_result"
    }
   ],
   "source": [
    "df.columns"
   ]
  },
  {
   "cell_type": "code",
   "execution_count": 39,
   "id": "254ccf97",
   "metadata": {},
   "outputs": [
    {
     "name": "stdout",
     "output_type": "stream",
     "text": [
      "<class 'pandas.core.frame.DataFrame'>\n",
      "RangeIndex: 383 entries, 0 to 382\n",
      "Data columns (total 17 columns):\n",
      " #   Column                Non-Null Count  Dtype \n",
      "---  ------                --------------  ----- \n",
      " 0   Age                   383 non-null    int64 \n",
      " 1   Gender                383 non-null    object\n",
      " 2   Smoking               383 non-null    object\n",
      " 3   Hx Smoking            383 non-null    object\n",
      " 4   Hx Radiothreapy       383 non-null    object\n",
      " 5   Thyroid Function      383 non-null    object\n",
      " 6   Physical Examination  383 non-null    object\n",
      " 7   Adenopathy            383 non-null    object\n",
      " 8   Pathology             383 non-null    object\n",
      " 9   Focality              383 non-null    object\n",
      " 10  Risk                  383 non-null    object\n",
      " 11  T                     383 non-null    object\n",
      " 12  N                     383 non-null    object\n",
      " 13  M                     383 non-null    object\n",
      " 14  Stage                 383 non-null    object\n",
      " 15  Response              383 non-null    object\n",
      " 16  Recurred              383 non-null    object\n",
      "dtypes: int64(1), object(16)\n",
      "memory usage: 51.0+ KB\n"
     ]
    }
   ],
   "source": [
    "df.info()"
   ]
  },
  {
   "cell_type": "code",
   "execution_count": 40,
   "id": "abba6e00",
   "metadata": {},
   "outputs": [
    {
     "data": {
      "text/plain": [
       "Age                      int64\n",
       "Gender                  object\n",
       "Smoking                 object\n",
       "Hx Smoking              object\n",
       "Hx Radiothreapy         object\n",
       "Thyroid Function        object\n",
       "Physical Examination    object\n",
       "Adenopathy              object\n",
       "Pathology               object\n",
       "Focality                object\n",
       "Risk                    object\n",
       "T                       object\n",
       "N                       object\n",
       "M                       object\n",
       "Stage                   object\n",
       "Response                object\n",
       "Recurred                object\n",
       "dtype: object"
      ]
     },
     "execution_count": 40,
     "metadata": {},
     "output_type": "execute_result"
    }
   ],
   "source": [
    "df.dtypes"
   ]
  },
  {
   "cell_type": "code",
   "execution_count": 41,
   "id": "2a1b520a",
   "metadata": {},
   "outputs": [
    {
     "data": {
      "text/html": [
       "<div>\n",
       "<style scoped>\n",
       "    .dataframe tbody tr th:only-of-type {\n",
       "        vertical-align: middle;\n",
       "    }\n",
       "\n",
       "    .dataframe tbody tr th {\n",
       "        vertical-align: top;\n",
       "    }\n",
       "\n",
       "    .dataframe thead th {\n",
       "        text-align: right;\n",
       "    }\n",
       "</style>\n",
       "<table border=\"1\" class=\"dataframe\">\n",
       "  <thead>\n",
       "    <tr style=\"text-align: right;\">\n",
       "      <th></th>\n",
       "      <th>Age</th>\n",
       "    </tr>\n",
       "  </thead>\n",
       "  <tbody>\n",
       "    <tr>\n",
       "      <th>count</th>\n",
       "      <td>383.000000</td>\n",
       "    </tr>\n",
       "    <tr>\n",
       "      <th>mean</th>\n",
       "      <td>40.866841</td>\n",
       "    </tr>\n",
       "    <tr>\n",
       "      <th>std</th>\n",
       "      <td>15.134494</td>\n",
       "    </tr>\n",
       "    <tr>\n",
       "      <th>min</th>\n",
       "      <td>15.000000</td>\n",
       "    </tr>\n",
       "    <tr>\n",
       "      <th>25%</th>\n",
       "      <td>29.000000</td>\n",
       "    </tr>\n",
       "    <tr>\n",
       "      <th>50%</th>\n",
       "      <td>37.000000</td>\n",
       "    </tr>\n",
       "    <tr>\n",
       "      <th>75%</th>\n",
       "      <td>51.000000</td>\n",
       "    </tr>\n",
       "    <tr>\n",
       "      <th>max</th>\n",
       "      <td>82.000000</td>\n",
       "    </tr>\n",
       "  </tbody>\n",
       "</table>\n",
       "</div>"
      ],
      "text/plain": [
       "              Age\n",
       "count  383.000000\n",
       "mean    40.866841\n",
       "std     15.134494\n",
       "min     15.000000\n",
       "25%     29.000000\n",
       "50%     37.000000\n",
       "75%     51.000000\n",
       "max     82.000000"
      ]
     },
     "execution_count": 41,
     "metadata": {},
     "output_type": "execute_result"
    }
   ],
   "source": [
    "df.describe()"
   ]
  },
  {
   "cell_type": "code",
   "execution_count": 42,
   "id": "fdecb79e",
   "metadata": {},
   "outputs": [
    {
     "data": {
      "text/plain": [
       "Age                     0\n",
       "Gender                  0\n",
       "Smoking                 0\n",
       "Hx Smoking              0\n",
       "Hx Radiothreapy         0\n",
       "Thyroid Function        0\n",
       "Physical Examination    0\n",
       "Adenopathy              0\n",
       "Pathology               0\n",
       "Focality                0\n",
       "Risk                    0\n",
       "T                       0\n",
       "N                       0\n",
       "M                       0\n",
       "Stage                   0\n",
       "Response                0\n",
       "Recurred                0\n",
       "dtype: int64"
      ]
     },
     "execution_count": 42,
     "metadata": {},
     "output_type": "execute_result"
    }
   ],
   "source": [
    "df.isnull().sum()"
   ]
  },
  {
   "cell_type": "code",
   "execution_count": 43,
   "id": "70e0862b",
   "metadata": {},
   "outputs": [
    {
     "data": {
      "text/plain": [
       "<Axes: xlabel='Recurred', ylabel='count'>"
      ]
     },
     "execution_count": 43,
     "metadata": {},
     "output_type": "execute_result"
    },
    {
     "data": {
      "image/png": "[encoded data removed]",
      "text/plain": [
       "<Figure size 640x480 with 1 Axes>"
      ]
     },
     "metadata": {},
     "output_type": "display_data"
    }
   ],
   "source": [
    "sns.set_style('whitegrid')\n",
    "sns.countplot(x='Recurred', hue='Gender', data=df, palette='RdBu_r')"
   ]
  },
  {
   "cell_type": "code",
   "execution_count": 44,
   "id": "9c5d8b5b",
   "metadata": {},
   "outputs": [
    {
     "data": {
      "text/plain": [
       "array(['Low', 'Intermediate', 'High'], dtype=object)"
      ]
     },
     "execution_count": 44,
     "metadata": {},
     "output_type": "execute_result"
    }
   ],
   "source": [
    "df['Risk'].unique()"
   ]
  },
  {
   "cell_type": "code",
   "execution_count": 45,
   "id": "736f8ee4",
   "metadata": {},
   "outputs": [
    {
     "data": {
      "text/plain": [
       "<Axes: xlabel='Risk', ylabel='count'>"
      ]
     },
     "execution_count": 45,
     "metadata": {},
     "output_type": "execute_result"
    },
    {
     "data": {
      "image/png": "[encoded data removed]",
      "text/plain": [
       "<Figure size 640x480 with 1 Axes>"
      ]
     },
     "metadata": {},
     "output_type": "display_data"
    }
   ],
   "source": [
    "sns.set_style('whitegrid')\n",
    "sns.countplot(x='Risk', hue='Gender', data=df, palette='rainbow')"
   ]
  },
  {
   "cell_type": "code",
   "execution_count": 46,
   "id": "15897874",
   "metadata": {},
   "outputs": [
    {
     "data": {
      "image/png": "[encoded data removed]",
      "text/plain": [
       "<Figure size 1200x600 with 1 Axes>"
      ]
     },
     "metadata": {},
     "output_type": "display_data"
    }
   ],
   "source": [
    "# Set the style and size of the figure\n",
    "sns.set_style('whitegrid')\n",
    "plt.figure(figsize=(12, 6))\n",
    "\n",
    "# Create the count plot\n",
    "sns.countplot(x='Response', hue='Gender', data=df, palette='rainbow')\n",
    "\n",
    "# Rotate x-axis labels to prevent overlap\n",
    "#plt.xticks(rotation=45)\n",
    "\n",
    "# Display the plot\n",
    "plt.show()"
   ]
  },
  {
   "cell_type": "code",
   "execution_count": 47,
   "id": "1eb1dacd",
   "metadata": {},
   "outputs": [
    {
     "data": {
      "image/png": "[encoded data removed]",
      "text/plain": [
       "<Figure size 1000x600 with 1 Axes>"
      ]
     },
     "metadata": {},
     "output_type": "display_data"
    }
   ],
   "source": [
    "# Histograms for numerical variables\n",
    "plt.figure(figsize=(10, 6))\n",
    "sns.histplot(df['Age'], kde=True)\n",
    "plt.title('Age Distribution')\n",
    "plt.show()"
   ]
  },
  {
   "cell_type": "code",
   "execution_count": 48,
   "id": "3b83e022",
   "metadata": {},
   "outputs": [
    {
     "data": {
      "image/png": "[encoded data removed]",
      "text/plain": [
       "<Figure size 1000x600 with 1 Axes>"
      ]
     },
     "metadata": {},
     "output_type": "display_data"
    }
   ],
   "source": [
    "# Box plot for Age by Gender\n",
    "plt.figure(figsize=(10, 6))\n",
    "sns.boxplot(x='Gender', y='Age', data=df)\n",
    "plt.title('Age by Gender')\n",
    "plt.show()"
   ]
  },
  {
   "cell_type": "code",
   "execution_count": 49,
   "id": "0bb2847c",
   "metadata": {},
   "outputs": [
    {
     "data": {
      "image/png": "[encoded data removed]",
      "text/plain": [
       "<Figure size 1000x600 with 1 Axes>"
      ]
     },
     "metadata": {},
     "output_type": "display_data"
    }
   ],
   "source": [
    "plt.figure(figsize=(10, 6))\n",
    "sns.countplot(x='Gender', data=df, palette='rainbow')\n",
    "plt.title('Gender Distribution')\n",
    "plt.show()"
   ]
  },
  {
   "cell_type": "code",
   "execution_count": 50,
   "id": "4a49f255",
   "metadata": {},
   "outputs": [
    {
     "data": {
      "image/png": "[encoded data removed]",
      "text/plain": [
       "<Figure size 1000x600 with 1 Axes>"
      ]
     },
     "metadata": {},
     "output_type": "display_data"
    }
   ],
   "source": [
    "plt.figure(figsize=(10, 6))\n",
    "sns.countplot(x='Smoking', data=df, palette='rainbow')\n",
    "plt.title('Smoking Status Distribution')\n",
    "plt.show()"
   ]
  },
  {
   "cell_type": "code",
   "execution_count": 51,
   "id": "c7a22c05",
   "metadata": {},
   "outputs": [
    {
     "data": {
      "image/png": "[encoded data removed]",
      "text/plain": [
       "<Figure size 1000x600 with 1 Axes>"
      ]
     },
     "metadata": {},
     "output_type": "display_data"
    }
   ],
   "source": [
    "plt.figure(figsize=(10, 6))\n",
    "sns.countplot(x='Hx Smoking', data=df, palette='rainbow')\n",
    "plt.title('History of Smoking Status Distribution')\n",
    "plt.show()"
   ]
  },
  {
   "cell_type": "code",
   "execution_count": 52,
   "id": "5c62ffa6",
   "metadata": {},
   "outputs": [
    {
     "data": {
      "image/png": "[encoded data removed]",
      "text/plain": [
       "<Figure size 1000x600 with 1 Axes>"
      ]
     },
     "metadata": {},
     "output_type": "display_data"
    }
   ],
   "source": [
    "plt.figure(figsize=(10, 6))\n",
    "sns.countplot(x='Hx Radiothreapy', data=df, palette='rainbow')\n",
    "plt.title('History of Radiotherapy Status Distribution')\n",
    "plt.show()"
   ]
  },
  {
   "cell_type": "code",
   "execution_count": 53,
   "id": "cc3d4806",
   "metadata": {},
   "outputs": [
    {
     "data": {
      "image/png": "[encoded data removed]",
      "text/plain": [
       "<Figure size 1200x600 with 1 Axes>"
      ]
     },
     "metadata": {},
     "output_type": "display_data"
    }
   ],
   "source": [
    "# Set the style and size of the figure\n",
    "sns.set_style('whitegrid')\n",
    "plt.figure(figsize=(12, 6))\n",
    "\n",
    "# Create the count plot\n",
    "sns.countplot(x='Thyroid Function', data=df, palette='rainbow')\n",
    "\n",
    "# Display the plot\n",
    "plt.show()"
   ]
  },
  {
   "cell_type": "code",
   "execution_count": 54,
   "id": "b10e5b11",
   "metadata": {},
   "outputs": [
    {
     "name": "stderr",
     "output_type": "stream",
     "text": [
      "C:\\Users\\THINKUP\\AppData\\Local\\Temp\\ipykernel_11408\\199002466.py:3: FutureWarning: Passing `palette` without assigning `hue` is deprecated.\n",
      "  sns.stripplot(x='Response', y='Age', data=df, jitter=True, palette='rainbow')\n"
     ]
    },
    {
     "data": {
      "image/png": "[encoded data removed]",
      "text/plain": [
       "<Figure size 1000x600 with 1 Axes>"
      ]
     },
     "metadata": {},
     "output_type": "display_data"
    }
   ],
   "source": [
    "# Scatter plot with jitter for Age by Response\n",
    "plt.figure(figsize=(10, 6))\n",
    "sns.stripplot(x='Response', y='Age', data=df, jitter=True, palette='rainbow')\n",
    "plt.title('Age Distribution by Response')\n",
    "plt.xlabel('Response')\n",
    "plt.ylabel('Age')\n",
    "plt.show()"
   ]
  },
  {
   "cell_type": "code",
   "execution_count": 55,
   "id": "d85ea953",
   "metadata": {},
   "outputs": [
    {
     "name": "stderr",
     "output_type": "stream",
     "text": [
      "C:\\Users\\THINKUP\\AppData\\Local\\Temp\\ipykernel_11408\\3835995348.py:3: FutureWarning: Passing `palette` without assigning `hue` is deprecated.\n",
      "  sns.swarmplot(x='Response', y='Age', data=df, palette='rainbow')\n"
     ]
    },
    {
     "data": {
      "image/png": "[encoded data removed]",
      "text/plain": [
       "<Figure size 1000x600 with 1 Axes>"
      ]
     },
     "metadata": {},
     "output_type": "display_data"
    }
   ],
   "source": [
    "# Swarm plot for Age by Response\n",
    "plt.figure(figsize=(10, 6))\n",
    "sns.swarmplot(x='Response', y='Age', data=df, palette='rainbow')\n",
    "plt.title('Age Distribution by Response')\n",
    "plt.xlabel('Response')\n",
    "plt.ylabel('Age')\n",
    "plt.show()"
   ]
  },
  {
   "cell_type": "code",
   "execution_count": 56,
   "id": "e51e4751",
   "metadata": {},
   "outputs": [
    {
     "data": {
      "image/png": "[encoded data removed]",
      "text/plain": [
       "<Figure size 1000x600 with 1 Axes>"
      ]
     },
     "metadata": {},
     "output_type": "display_data"
    }
   ],
   "source": [
    "# Box plot for Age by Response\n",
    "plt.figure(figsize=(10, 6))\n",
    "sns.boxplot(x='Response', y='Age', data=df, palette='rainbow')\n",
    "plt.title('Age Distribution by Response')\n",
    "plt.xlabel('Response')\n",
    "plt.ylabel('Age')\n",
    "plt.show()"
   ]
  },
  {
   "cell_type": "markdown",
   "id": "fed62597",
   "metadata": {},
   "source": [
    "<h3 style='color:purple'>Feature engineeering</h3>"
   ]
  },
  {
   "cell_type": "code",
   "execution_count": 57,
   "id": "e648cf76",
   "metadata": {},
   "outputs": [],
   "source": [
    "df.replace({'No': 0, 'Yes': 1}, inplace=True)"
   ]
  },
  {
   "cell_type": "code",
   "execution_count": 58,
   "id": "401a0187",
   "metadata": {},
   "outputs": [
    {
     "data": {
      "text/html": [
       "<div>\n",
       "<style scoped>\n",
       "    .dataframe tbody tr th:only-of-type {\n",
       "        vertical-align: middle;\n",
       "    }\n",
       "\n",
       "    .dataframe tbody tr th {\n",
       "        vertical-align: top;\n",
       "    }\n",
       "\n",
       "    .dataframe thead th {\n",
       "        text-align: right;\n",
       "    }\n",
       "</style>\n",
       "<table border=\"1\" class=\"dataframe\">\n",
       "  <thead>\n",
       "    <tr style=\"text-align: right;\">\n",
       "      <th></th>\n",
       "      <th>Age</th>\n",
       "      <th>Gender</th>\n",
       "      <th>Smoking</th>\n",
       "      <th>Hx Smoking</th>\n",
       "      <th>Hx Radiothreapy</th>\n",
       "      <th>Thyroid Function</th>\n",
       "      <th>Physical Examination</th>\n",
       "      <th>Adenopathy</th>\n",
       "      <th>Pathology</th>\n",
       "      <th>Focality</th>\n",
       "      <th>Risk</th>\n",
       "      <th>T</th>\n",
       "      <th>N</th>\n",
       "      <th>M</th>\n",
       "      <th>Stage</th>\n",
       "      <th>Response</th>\n",
       "      <th>Recurred</th>\n",
       "    </tr>\n",
       "  </thead>\n",
       "  <tbody>\n",
       "    <tr>\n",
       "      <th>0</th>\n",
       "      <td>27</td>\n",
       "      <td>F</td>\n",
       "      <td>0</td>\n",
       "      <td>0</td>\n",
       "      <td>0</td>\n",
       "      <td>Euthyroid</td>\n",
       "      <td>Single nodular goiter-left</td>\n",
       "      <td>0</td>\n",
       "      <td>Micropapillary</td>\n",
       "      <td>Uni-Focal</td>\n",
       "      <td>Low</td>\n",
       "      <td>T1a</td>\n",
       "      <td>N0</td>\n",
       "      <td>M0</td>\n",
       "      <td>I</td>\n",
       "      <td>Indeterminate</td>\n",
       "      <td>0</td>\n",
       "    </tr>\n",
       "    <tr>\n",
       "      <th>1</th>\n",
       "      <td>34</td>\n",
       "      <td>F</td>\n",
       "      <td>0</td>\n",
       "      <td>1</td>\n",
       "      <td>0</td>\n",
       "      <td>Euthyroid</td>\n",
       "      <td>Multinodular goiter</td>\n",
       "      <td>0</td>\n",
       "      <td>Micropapillary</td>\n",
       "      <td>Uni-Focal</td>\n",
       "      <td>Low</td>\n",
       "      <td>T1a</td>\n",
       "      <td>N0</td>\n",
       "      <td>M0</td>\n",
       "      <td>I</td>\n",
       "      <td>Excellent</td>\n",
       "      <td>0</td>\n",
       "    </tr>\n",
       "    <tr>\n",
       "      <th>2</th>\n",
       "      <td>30</td>\n",
       "      <td>F</td>\n",
       "      <td>0</td>\n",
       "      <td>0</td>\n",
       "      <td>0</td>\n",
       "      <td>Euthyroid</td>\n",
       "      <td>Single nodular goiter-right</td>\n",
       "      <td>0</td>\n",
       "      <td>Micropapillary</td>\n",
       "      <td>Uni-Focal</td>\n",
       "      <td>Low</td>\n",
       "      <td>T1a</td>\n",
       "      <td>N0</td>\n",
       "      <td>M0</td>\n",
       "      <td>I</td>\n",
       "      <td>Excellent</td>\n",
       "      <td>0</td>\n",
       "    </tr>\n",
       "    <tr>\n",
       "      <th>3</th>\n",
       "      <td>62</td>\n",
       "      <td>F</td>\n",
       "      <td>0</td>\n",
       "      <td>0</td>\n",
       "      <td>0</td>\n",
       "      <td>Euthyroid</td>\n",
       "      <td>Single nodular goiter-right</td>\n",
       "      <td>0</td>\n",
       "      <td>Micropapillary</td>\n",
       "      <td>Uni-Focal</td>\n",
       "      <td>Low</td>\n",
       "      <td>T1a</td>\n",
       "      <td>N0</td>\n",
       "      <td>M0</td>\n",
       "      <td>I</td>\n",
       "      <td>Excellent</td>\n",
       "      <td>0</td>\n",
       "    </tr>\n",
       "    <tr>\n",
       "      <th>4</th>\n",
       "      <td>62</td>\n",
       "      <td>F</td>\n",
       "      <td>0</td>\n",
       "      <td>0</td>\n",
       "      <td>0</td>\n",
       "      <td>Euthyroid</td>\n",
       "      <td>Multinodular goiter</td>\n",
       "      <td>0</td>\n",
       "      <td>Micropapillary</td>\n",
       "      <td>Multi-Focal</td>\n",
       "      <td>Low</td>\n",
       "      <td>T1a</td>\n",
       "      <td>N0</td>\n",
       "      <td>M0</td>\n",
       "      <td>I</td>\n",
       "      <td>Excellent</td>\n",
       "      <td>0</td>\n",
       "    </tr>\n",
       "  </tbody>\n",
       "</table>\n",
       "</div>"
      ],
      "text/plain": [
       "   Age Gender  Smoking  Hx Smoking  Hx Radiothreapy Thyroid Function  \\\n",
       "0   27      F        0           0                0        Euthyroid   \n",
       "1   34      F        0           1                0        Euthyroid   \n",
       "2   30      F        0           0                0        Euthyroid   \n",
       "3   62      F        0           0                0        Euthyroid   \n",
       "4   62      F        0           0                0        Euthyroid   \n",
       "\n",
       "          Physical Examination Adenopathy       Pathology     Focality Risk  \\\n",
       "0   Single nodular goiter-left          0  Micropapillary    Uni-Focal  Low   \n",
       "1          Multinodular goiter          0  Micropapillary    Uni-Focal  Low   \n",
       "2  Single nodular goiter-right          0  Micropapillary    Uni-Focal  Low   \n",
       "3  Single nodular goiter-right          0  Micropapillary    Uni-Focal  Low   \n",
       "4          Multinodular goiter          0  Micropapillary  Multi-Focal  Low   \n",
       "\n",
       "     T   N   M Stage       Response  Recurred  \n",
       "0  T1a  N0  M0     I  Indeterminate         0  \n",
       "1  T1a  N0  M0     I      Excellent         0  \n",
       "2  T1a  N0  M0     I      Excellent         0  \n",
       "3  T1a  N0  M0     I      Excellent         0  \n",
       "4  T1a  N0  M0     I      Excellent         0  "
      ]
     },
     "execution_count": 58,
     "metadata": {},
     "output_type": "execute_result"
    }
   ],
   "source": [
    "df.head()"
   ]
  },
  {
   "cell_type": "code",
   "execution_count": 59,
   "id": "489b000d",
   "metadata": {},
   "outputs": [
    {
     "name": "stdout",
     "output_type": "stream",
     "text": [
      "<class 'pandas.core.frame.DataFrame'>\n",
      "RangeIndex: 383 entries, 0 to 382\n",
      "Data columns (total 17 columns):\n",
      " #   Column                Non-Null Count  Dtype \n",
      "---  ------                --------------  ----- \n",
      " 0   Age                   383 non-null    int64 \n",
      " 1   Gender                383 non-null    object\n",
      " 2   Smoking               383 non-null    int64 \n",
      " 3   Hx Smoking            383 non-null    int64 \n",
      " 4   Hx Radiothreapy       383 non-null    int64 \n",
      " 5   Thyroid Function      383 non-null    object\n",
      " 6   Physical Examination  383 non-null    object\n",
      " 7   Adenopathy            383 non-null    object\n",
      " 8   Pathology             383 non-null    object\n",
      " 9   Focality              383 non-null    object\n",
      " 10  Risk                  383 non-null    object\n",
      " 11  T                     383 non-null    object\n",
      " 12  N                     383 non-null    object\n",
      " 13  M                     383 non-null    object\n",
      " 14  Stage                 383 non-null    object\n",
      " 15  Response              383 non-null    object\n",
      " 16  Recurred              383 non-null    int64 \n",
      "dtypes: int64(5), object(12)\n",
      "memory usage: 51.0+ KB\n"
     ]
    }
   ],
   "source": [
    "df.info()"
   ]
  },
  {
   "cell_type": "code",
   "execution_count": 60,
   "id": "17f5e8fa",
   "metadata": {},
   "outputs": [
    {
     "data": {
      "text/html": [
       "<div>\n",
       "<style scoped>\n",
       "    .dataframe tbody tr th:only-of-type {\n",
       "        vertical-align: middle;\n",
       "    }\n",
       "\n",
       "    .dataframe tbody tr th {\n",
       "        vertical-align: top;\n",
       "    }\n",
       "\n",
       "    .dataframe thead th {\n",
       "        text-align: right;\n",
       "    }\n",
       "</style>\n",
       "<table border=\"1\" class=\"dataframe\">\n",
       "  <thead>\n",
       "    <tr style=\"text-align: right;\">\n",
       "      <th></th>\n",
       "      <th>Age</th>\n",
       "      <th>Smoking</th>\n",
       "      <th>Hx Smoking</th>\n",
       "      <th>Hx Radiothreapy</th>\n",
       "      <th>Recurred</th>\n",
       "      <th>Gender_M</th>\n",
       "      <th>Thyroid Function_Clinical Hypothyroidism</th>\n",
       "      <th>Thyroid Function_Euthyroid</th>\n",
       "      <th>Thyroid Function_Subclinical Hyperthyroidism</th>\n",
       "      <th>Thyroid Function_Subclinical Hypothyroidism</th>\n",
       "      <th>...</th>\n",
       "      <th>N_N1a</th>\n",
       "      <th>N_N1b</th>\n",
       "      <th>M_M1</th>\n",
       "      <th>Stage_II</th>\n",
       "      <th>Stage_III</th>\n",
       "      <th>Stage_IVA</th>\n",
       "      <th>Stage_IVB</th>\n",
       "      <th>Response_Excellent</th>\n",
       "      <th>Response_Indeterminate</th>\n",
       "      <th>Response_Structural Incomplete</th>\n",
       "    </tr>\n",
       "  </thead>\n",
       "  <tbody>\n",
       "    <tr>\n",
       "      <th>0</th>\n",
       "      <td>27</td>\n",
       "      <td>0</td>\n",
       "      <td>0</td>\n",
       "      <td>0</td>\n",
       "      <td>0</td>\n",
       "      <td>0</td>\n",
       "      <td>0</td>\n",
       "      <td>1</td>\n",
       "      <td>0</td>\n",
       "      <td>0</td>\n",
       "      <td>...</td>\n",
       "      <td>0</td>\n",
       "      <td>0</td>\n",
       "      <td>0</td>\n",
       "      <td>0</td>\n",
       "      <td>0</td>\n",
       "      <td>0</td>\n",
       "      <td>0</td>\n",
       "      <td>0</td>\n",
       "      <td>1</td>\n",
       "      <td>0</td>\n",
       "    </tr>\n",
       "    <tr>\n",
       "      <th>1</th>\n",
       "      <td>34</td>\n",
       "      <td>0</td>\n",
       "      <td>1</td>\n",
       "      <td>0</td>\n",
       "      <td>0</td>\n",
       "      <td>0</td>\n",
       "      <td>0</td>\n",
       "      <td>1</td>\n",
       "      <td>0</td>\n",
       "      <td>0</td>\n",
       "      <td>...</td>\n",
       "      <td>0</td>\n",
       "      <td>0</td>\n",
       "      <td>0</td>\n",
       "      <td>0</td>\n",
       "      <td>0</td>\n",
       "      <td>0</td>\n",
       "      <td>0</td>\n",
       "      <td>1</td>\n",
       "      <td>0</td>\n",
       "      <td>0</td>\n",
       "    </tr>\n",
       "    <tr>\n",
       "      <th>2</th>\n",
       "      <td>30</td>\n",
       "      <td>0</td>\n",
       "      <td>0</td>\n",
       "      <td>0</td>\n",
       "      <td>0</td>\n",
       "      <td>0</td>\n",
       "      <td>0</td>\n",
       "      <td>1</td>\n",
       "      <td>0</td>\n",
       "      <td>0</td>\n",
       "      <td>...</td>\n",
       "      <td>0</td>\n",
       "      <td>0</td>\n",
       "      <td>0</td>\n",
       "      <td>0</td>\n",
       "      <td>0</td>\n",
       "      <td>0</td>\n",
       "      <td>0</td>\n",
       "      <td>1</td>\n",
       "      <td>0</td>\n",
       "      <td>0</td>\n",
       "    </tr>\n",
       "    <tr>\n",
       "      <th>3</th>\n",
       "      <td>62</td>\n",
       "      <td>0</td>\n",
       "      <td>0</td>\n",
       "      <td>0</td>\n",
       "      <td>0</td>\n",
       "      <td>0</td>\n",
       "      <td>0</td>\n",
       "      <td>1</td>\n",
       "      <td>0</td>\n",
       "      <td>0</td>\n",
       "      <td>...</td>\n",
       "      <td>0</td>\n",
       "      <td>0</td>\n",
       "      <td>0</td>\n",
       "      <td>0</td>\n",
       "      <td>0</td>\n",
       "      <td>0</td>\n",
       "      <td>0</td>\n",
       "      <td>1</td>\n",
       "      <td>0</td>\n",
       "      <td>0</td>\n",
       "    </tr>\n",
       "    <tr>\n",
       "      <th>4</th>\n",
       "      <td>62</td>\n",
       "      <td>0</td>\n",
       "      <td>0</td>\n",
       "      <td>0</td>\n",
       "      <td>0</td>\n",
       "      <td>0</td>\n",
       "      <td>0</td>\n",
       "      <td>1</td>\n",
       "      <td>0</td>\n",
       "      <td>0</td>\n",
       "      <td>...</td>\n",
       "      <td>0</td>\n",
       "      <td>0</td>\n",
       "      <td>0</td>\n",
       "      <td>0</td>\n",
       "      <td>0</td>\n",
       "      <td>0</td>\n",
       "      <td>0</td>\n",
       "      <td>1</td>\n",
       "      <td>0</td>\n",
       "      <td>0</td>\n",
       "    </tr>\n",
       "  </tbody>\n",
       "</table>\n",
       "<p>5 rows × 41 columns</p>\n",
       "</div>"
      ],
      "text/plain": [
       "   Age  Smoking  Hx Smoking  Hx Radiothreapy  Recurred  Gender_M  \\\n",
       "0   27        0           0                0         0         0   \n",
       "1   34        0           1                0         0         0   \n",
       "2   30        0           0                0         0         0   \n",
       "3   62        0           0                0         0         0   \n",
       "4   62        0           0                0         0         0   \n",
       "\n",
       "   Thyroid Function_Clinical Hypothyroidism  Thyroid Function_Euthyroid  \\\n",
       "0                                         0                           1   \n",
       "1                                         0                           1   \n",
       "2                                         0                           1   \n",
       "3                                         0                           1   \n",
       "4                                         0                           1   \n",
       "\n",
       "   Thyroid Function_Subclinical Hyperthyroidism  \\\n",
       "0                                             0   \n",
       "1                                             0   \n",
       "2                                             0   \n",
       "3                                             0   \n",
       "4                                             0   \n",
       "\n",
       "   Thyroid Function_Subclinical Hypothyroidism  ...  N_N1a  N_N1b  M_M1  \\\n",
       "0                                            0  ...      0      0     0   \n",
       "1                                            0  ...      0      0     0   \n",
       "2                                            0  ...      0      0     0   \n",
       "3                                            0  ...      0      0     0   \n",
       "4                                            0  ...      0      0     0   \n",
       "\n",
       "   Stage_II  Stage_III  Stage_IVA  Stage_IVB  Response_Excellent  \\\n",
       "0         0          0          0          0                   0   \n",
       "1         0          0          0          0                   1   \n",
       "2         0          0          0          0                   1   \n",
       "3         0          0          0          0                   1   \n",
       "4         0          0          0          0                   1   \n",
       "\n",
       "   Response_Indeterminate  Response_Structural Incomplete  \n",
       "0                       1                               0  \n",
       "1                       0                               0  \n",
       "2                       0                               0  \n",
       "3                       0                               0  \n",
       "4                       0                               0  \n",
       "\n",
       "[5 rows x 41 columns]"
      ]
     },
     "execution_count": 60,
     "metadata": {},
     "output_type": "execute_result"
    }
   ],
   "source": [
    "df1 = pd.get_dummies(df, drop_first=True).astype(int)\n",
    "df1.head()"
   ]
  },
  {
   "cell_type": "code",
   "execution_count": 61,
   "id": "1cb37478",
   "metadata": {},
   "outputs": [
    {
     "name": "stdout",
     "output_type": "stream",
     "text": [
      "<class 'pandas.core.frame.DataFrame'>\n",
      "RangeIndex: 383 entries, 0 to 382\n",
      "Data columns (total 41 columns):\n",
      " #   Column                                            Non-Null Count  Dtype\n",
      "---  ------                                            --------------  -----\n",
      " 0   Age                                               383 non-null    int32\n",
      " 1   Smoking                                           383 non-null    int32\n",
      " 2   Hx Smoking                                        383 non-null    int32\n",
      " 3   Hx Radiothreapy                                   383 non-null    int32\n",
      " 4   Recurred                                          383 non-null    int32\n",
      " 5   Gender_M                                          383 non-null    int32\n",
      " 6   Thyroid Function_Clinical Hypothyroidism          383 non-null    int32\n",
      " 7   Thyroid Function_Euthyroid                        383 non-null    int32\n",
      " 8   Thyroid Function_Subclinical Hyperthyroidism      383 non-null    int32\n",
      " 9   Thyroid Function_Subclinical Hypothyroidism       383 non-null    int32\n",
      " 10  Physical Examination_Multinodular goiter          383 non-null    int32\n",
      " 11  Physical Examination_Normal                       383 non-null    int32\n",
      " 12  Physical Examination_Single nodular goiter-left   383 non-null    int32\n",
      " 13  Physical Examination_Single nodular goiter-right  383 non-null    int32\n",
      " 14  Adenopathy_Bilateral                              383 non-null    int32\n",
      " 15  Adenopathy_Extensive                              383 non-null    int32\n",
      " 16  Adenopathy_Left                                   383 non-null    int32\n",
      " 17  Adenopathy_Posterior                              383 non-null    int32\n",
      " 18  Adenopathy_Right                                  383 non-null    int32\n",
      " 19  Pathology_Hurthel cell                            383 non-null    int32\n",
      " 20  Pathology_Micropapillary                          383 non-null    int32\n",
      " 21  Pathology_Papillary                               383 non-null    int32\n",
      " 22  Focality_Uni-Focal                                383 non-null    int32\n",
      " 23  Risk_Intermediate                                 383 non-null    int32\n",
      " 24  Risk_Low                                          383 non-null    int32\n",
      " 25  T_T1b                                             383 non-null    int32\n",
      " 26  T_T2                                              383 non-null    int32\n",
      " 27  T_T3a                                             383 non-null    int32\n",
      " 28  T_T3b                                             383 non-null    int32\n",
      " 29  T_T4a                                             383 non-null    int32\n",
      " 30  T_T4b                                             383 non-null    int32\n",
      " 31  N_N1a                                             383 non-null    int32\n",
      " 32  N_N1b                                             383 non-null    int32\n",
      " 33  M_M1                                              383 non-null    int32\n",
      " 34  Stage_II                                          383 non-null    int32\n",
      " 35  Stage_III                                         383 non-null    int32\n",
      " 36  Stage_IVA                                         383 non-null    int32\n",
      " 37  Stage_IVB                                         383 non-null    int32\n",
      " 38  Response_Excellent                                383 non-null    int32\n",
      " 39  Response_Indeterminate                            383 non-null    int32\n",
      " 40  Response_Structural Incomplete                    383 non-null    int32\n",
      "dtypes: int32(41)\n",
      "memory usage: 61.5 KB\n"
     ]
    }
   ],
   "source": [
    "df1.info()"
   ]
  },
  {
   "cell_type": "code",
   "execution_count": 62,
   "id": "f40c59ce",
   "metadata": {},
   "outputs": [],
   "source": [
    "X = df1.drop('Recurred', axis='columns')\n",
    "y = df1.Recurred"
   ]
  },
  {
   "cell_type": "code",
   "execution_count": 63,
   "id": "b0788d65",
   "metadata": {},
   "outputs": [
    {
     "data": {
      "text/plain": [
       "383"
      ]
     },
     "execution_count": 63,
     "metadata": {},
     "output_type": "execute_result"
    }
   ],
   "source": [
    "len(X)"
   ]
  },
  {
   "cell_type": "code",
   "execution_count": 64,
   "id": "87669f14",
   "metadata": {},
   "outputs": [
    {
     "data": {
      "text/plain": [
       "array([[-0.91743929, -0.38302296, -0.2808438 , ..., -1.09021623,\n",
       "         2.29753967, -0.55825069],\n",
       "       [-0.45431469, -0.38302296,  3.56069817, ...,  0.91724923,\n",
       "        -0.4352482 , -0.55825069],\n",
       "       [-0.71895732, -0.38302296, -0.2808438 , ...,  0.91724923,\n",
       "        -0.4352482 , -0.55825069],\n",
       "       ...,\n",
       "       [ 2.05979025,  2.61080955,  3.56069817, ..., -1.09021623,\n",
       "        -0.4352482 ,  1.79130991],\n",
       "       [ 1.33202303,  2.61080955,  3.56069817, ..., -1.09021623,\n",
       "        -0.4352482 ,  1.79130991],\n",
       "       [ 1.72898697,  2.61080955, -0.2808438 , ..., -1.09021623,\n",
       "        -0.4352482 ,  1.79130991]])"
      ]
     },
     "execution_count": 64,
     "metadata": {},
     "output_type": "execute_result"
    }
   ],
   "source": [
    "from sklearn.preprocessing import StandardScaler\n",
    "\n",
    "scaler = StandardScaler()\n",
    "X_scaled = scaler.fit_transform(X)\n",
    "X_scaled"
   ]
  },
  {
   "cell_type": "markdown",
   "id": "282c9753",
   "metadata": {},
   "source": [
    "**Using the classic train_test_split method**"
   ]
  },
  {
   "cell_type": "code",
   "execution_count": 65,
   "id": "f5c33ca2",
   "metadata": {},
   "outputs": [],
   "source": [
    "from sklearn.model_selection import train_test_split\n",
    "\n",
    "X_train, X_test, y_train, y_test = train_test_split(X_scaled, y, test_size=0.25, random_state=30)"
   ]
  },
  {
   "cell_type": "code",
   "execution_count": 66,
   "id": "8dac4e92",
   "metadata": {},
   "outputs": [],
   "source": [
    "from sklearn.ensemble import RandomForestClassifier\n",
    "from sklearn.linear_model import LogisticRegression\n",
    "from sklearn.svm import SVC"
   ]
  },
  {
   "cell_type": "code",
   "execution_count": 67,
   "id": "07db0d9d",
   "metadata": {},
   "outputs": [
    {
     "data": {
      "text/plain": [
       "0.9270833333333334"
      ]
     },
     "execution_count": 67,
     "metadata": {},
     "output_type": "execute_result"
    }
   ],
   "source": [
    "model1 = LogisticRegression()\n",
    "model1.fit(X_train, y_train)\n",
    "model1.score(X_test, y_test)"
   ]
  },
  {
   "cell_type": "code",
   "execution_count": 68,
   "id": "7fa1be9c",
   "metadata": {},
   "outputs": [
    {
     "data": {
      "text/plain": [
       "0.9479166666666666"
      ]
     },
     "execution_count": 68,
     "metadata": {},
     "output_type": "execute_result"
    }
   ],
   "source": [
    "model2 = RandomForestClassifier()\n",
    "model2.fit(X_train, y_train)\n",
    "model2.score(X_test, y_test)"
   ]
  },
  {
   "cell_type": "code",
   "execution_count": 69,
   "id": "8e70f4d5",
   "metadata": {},
   "outputs": [
    {
     "data": {
      "text/plain": [
       "0.9479166666666666"
      ]
     },
     "execution_count": 69,
     "metadata": {},
     "output_type": "execute_result"
    }
   ],
   "source": [
    "model3 = SVC()\n",
    "model3.fit(X_train, y_train)\n",
    "model3.score(X_test, y_test)"
   ]
  },
  {
   "cell_type": "markdown",
   "id": "127cec83",
   "metadata": {},
   "source": [
    "<h3>Use PCA to reduce dimensions</h3>"
   ]
  },
  {
   "cell_type": "code",
   "execution_count": 70,
   "id": "10e60fb2",
   "metadata": {},
   "outputs": [
    {
     "data": {
      "text/html": [
       "<div>\n",
       "<style scoped>\n",
       "    .dataframe tbody tr th:only-of-type {\n",
       "        vertical-align: middle;\n",
       "    }\n",
       "\n",
       "    .dataframe tbody tr th {\n",
       "        vertical-align: top;\n",
       "    }\n",
       "\n",
       "    .dataframe thead th {\n",
       "        text-align: right;\n",
       "    }\n",
       "</style>\n",
       "<table border=\"1\" class=\"dataframe\">\n",
       "  <thead>\n",
       "    <tr style=\"text-align: right;\">\n",
       "      <th></th>\n",
       "      <th>Age</th>\n",
       "      <th>Smoking</th>\n",
       "      <th>Hx Smoking</th>\n",
       "      <th>Hx Radiothreapy</th>\n",
       "      <th>Gender_M</th>\n",
       "      <th>Thyroid Function_Clinical Hypothyroidism</th>\n",
       "      <th>Thyroid Function_Euthyroid</th>\n",
       "      <th>Thyroid Function_Subclinical Hyperthyroidism</th>\n",
       "      <th>Thyroid Function_Subclinical Hypothyroidism</th>\n",
       "      <th>Physical Examination_Multinodular goiter</th>\n",
       "      <th>...</th>\n",
       "      <th>N_N1a</th>\n",
       "      <th>N_N1b</th>\n",
       "      <th>M_M1</th>\n",
       "      <th>Stage_II</th>\n",
       "      <th>Stage_III</th>\n",
       "      <th>Stage_IVA</th>\n",
       "      <th>Stage_IVB</th>\n",
       "      <th>Response_Excellent</th>\n",
       "      <th>Response_Indeterminate</th>\n",
       "      <th>Response_Structural Incomplete</th>\n",
       "    </tr>\n",
       "  </thead>\n",
       "  <tbody>\n",
       "    <tr>\n",
       "      <th>0</th>\n",
       "      <td>27</td>\n",
       "      <td>0</td>\n",
       "      <td>0</td>\n",
       "      <td>0</td>\n",
       "      <td>0</td>\n",
       "      <td>0</td>\n",
       "      <td>1</td>\n",
       "      <td>0</td>\n",
       "      <td>0</td>\n",
       "      <td>0</td>\n",
       "      <td>...</td>\n",
       "      <td>0</td>\n",
       "      <td>0</td>\n",
       "      <td>0</td>\n",
       "      <td>0</td>\n",
       "      <td>0</td>\n",
       "      <td>0</td>\n",
       "      <td>0</td>\n",
       "      <td>0</td>\n",
       "      <td>1</td>\n",
       "      <td>0</td>\n",
       "    </tr>\n",
       "    <tr>\n",
       "      <th>1</th>\n",
       "      <td>34</td>\n",
       "      <td>0</td>\n",
       "      <td>1</td>\n",
       "      <td>0</td>\n",
       "      <td>0</td>\n",
       "      <td>0</td>\n",
       "      <td>1</td>\n",
       "      <td>0</td>\n",
       "      <td>0</td>\n",
       "      <td>1</td>\n",
       "      <td>...</td>\n",
       "      <td>0</td>\n",
       "      <td>0</td>\n",
       "      <td>0</td>\n",
       "      <td>0</td>\n",
       "      <td>0</td>\n",
       "      <td>0</td>\n",
       "      <td>0</td>\n",
       "      <td>1</td>\n",
       "      <td>0</td>\n",
       "      <td>0</td>\n",
       "    </tr>\n",
       "    <tr>\n",
       "      <th>2</th>\n",
       "      <td>30</td>\n",
       "      <td>0</td>\n",
       "      <td>0</td>\n",
       "      <td>0</td>\n",
       "      <td>0</td>\n",
       "      <td>0</td>\n",
       "      <td>1</td>\n",
       "      <td>0</td>\n",
       "      <td>0</td>\n",
       "      <td>0</td>\n",
       "      <td>...</td>\n",
       "      <td>0</td>\n",
       "      <td>0</td>\n",
       "      <td>0</td>\n",
       "      <td>0</td>\n",
       "      <td>0</td>\n",
       "      <td>0</td>\n",
       "      <td>0</td>\n",
       "      <td>1</td>\n",
       "      <td>0</td>\n",
       "      <td>0</td>\n",
       "    </tr>\n",
       "    <tr>\n",
       "      <th>3</th>\n",
       "      <td>62</td>\n",
       "      <td>0</td>\n",
       "      <td>0</td>\n",
       "      <td>0</td>\n",
       "      <td>0</td>\n",
       "      <td>0</td>\n",
       "      <td>1</td>\n",
       "      <td>0</td>\n",
       "      <td>0</td>\n",
       "      <td>0</td>\n",
       "      <td>...</td>\n",
       "      <td>0</td>\n",
       "      <td>0</td>\n",
       "      <td>0</td>\n",
       "      <td>0</td>\n",
       "      <td>0</td>\n",
       "      <td>0</td>\n",
       "      <td>0</td>\n",
       "      <td>1</td>\n",
       "      <td>0</td>\n",
       "      <td>0</td>\n",
       "    </tr>\n",
       "    <tr>\n",
       "      <th>4</th>\n",
       "      <td>62</td>\n",
       "      <td>0</td>\n",
       "      <td>0</td>\n",
       "      <td>0</td>\n",
       "      <td>0</td>\n",
       "      <td>0</td>\n",
       "      <td>1</td>\n",
       "      <td>0</td>\n",
       "      <td>0</td>\n",
       "      <td>1</td>\n",
       "      <td>...</td>\n",
       "      <td>0</td>\n",
       "      <td>0</td>\n",
       "      <td>0</td>\n",
       "      <td>0</td>\n",
       "      <td>0</td>\n",
       "      <td>0</td>\n",
       "      <td>0</td>\n",
       "      <td>1</td>\n",
       "      <td>0</td>\n",
       "      <td>0</td>\n",
       "    </tr>\n",
       "    <tr>\n",
       "      <th>...</th>\n",
       "      <td>...</td>\n",
       "      <td>...</td>\n",
       "      <td>...</td>\n",
       "      <td>...</td>\n",
       "      <td>...</td>\n",
       "      <td>...</td>\n",
       "      <td>...</td>\n",
       "      <td>...</td>\n",
       "      <td>...</td>\n",
       "      <td>...</td>\n",
       "      <td>...</td>\n",
       "      <td>...</td>\n",
       "      <td>...</td>\n",
       "      <td>...</td>\n",
       "      <td>...</td>\n",
       "      <td>...</td>\n",
       "      <td>...</td>\n",
       "      <td>...</td>\n",
       "      <td>...</td>\n",
       "      <td>...</td>\n",
       "      <td>...</td>\n",
       "    </tr>\n",
       "    <tr>\n",
       "      <th>378</th>\n",
       "      <td>72</td>\n",
       "      <td>1</td>\n",
       "      <td>1</td>\n",
       "      <td>1</td>\n",
       "      <td>1</td>\n",
       "      <td>0</td>\n",
       "      <td>1</td>\n",
       "      <td>0</td>\n",
       "      <td>0</td>\n",
       "      <td>0</td>\n",
       "      <td>...</td>\n",
       "      <td>0</td>\n",
       "      <td>1</td>\n",
       "      <td>1</td>\n",
       "      <td>0</td>\n",
       "      <td>0</td>\n",
       "      <td>0</td>\n",
       "      <td>1</td>\n",
       "      <td>0</td>\n",
       "      <td>0</td>\n",
       "      <td>0</td>\n",
       "    </tr>\n",
       "    <tr>\n",
       "      <th>379</th>\n",
       "      <td>81</td>\n",
       "      <td>1</td>\n",
       "      <td>0</td>\n",
       "      <td>1</td>\n",
       "      <td>1</td>\n",
       "      <td>0</td>\n",
       "      <td>1</td>\n",
       "      <td>0</td>\n",
       "      <td>0</td>\n",
       "      <td>1</td>\n",
       "      <td>...</td>\n",
       "      <td>0</td>\n",
       "      <td>1</td>\n",
       "      <td>1</td>\n",
       "      <td>0</td>\n",
       "      <td>0</td>\n",
       "      <td>0</td>\n",
       "      <td>1</td>\n",
       "      <td>0</td>\n",
       "      <td>0</td>\n",
       "      <td>1</td>\n",
       "    </tr>\n",
       "    <tr>\n",
       "      <th>380</th>\n",
       "      <td>72</td>\n",
       "      <td>1</td>\n",
       "      <td>1</td>\n",
       "      <td>0</td>\n",
       "      <td>1</td>\n",
       "      <td>0</td>\n",
       "      <td>1</td>\n",
       "      <td>0</td>\n",
       "      <td>0</td>\n",
       "      <td>1</td>\n",
       "      <td>...</td>\n",
       "      <td>0</td>\n",
       "      <td>1</td>\n",
       "      <td>1</td>\n",
       "      <td>0</td>\n",
       "      <td>0</td>\n",
       "      <td>0</td>\n",
       "      <td>1</td>\n",
       "      <td>0</td>\n",
       "      <td>0</td>\n",
       "      <td>1</td>\n",
       "    </tr>\n",
       "    <tr>\n",
       "      <th>381</th>\n",
       "      <td>61</td>\n",
       "      <td>1</td>\n",
       "      <td>1</td>\n",
       "      <td>1</td>\n",
       "      <td>1</td>\n",
       "      <td>0</td>\n",
       "      <td>0</td>\n",
       "      <td>0</td>\n",
       "      <td>0</td>\n",
       "      <td>1</td>\n",
       "      <td>...</td>\n",
       "      <td>0</td>\n",
       "      <td>1</td>\n",
       "      <td>0</td>\n",
       "      <td>0</td>\n",
       "      <td>0</td>\n",
       "      <td>1</td>\n",
       "      <td>0</td>\n",
       "      <td>0</td>\n",
       "      <td>0</td>\n",
       "      <td>1</td>\n",
       "    </tr>\n",
       "    <tr>\n",
       "      <th>382</th>\n",
       "      <td>67</td>\n",
       "      <td>1</td>\n",
       "      <td>0</td>\n",
       "      <td>0</td>\n",
       "      <td>1</td>\n",
       "      <td>0</td>\n",
       "      <td>1</td>\n",
       "      <td>0</td>\n",
       "      <td>0</td>\n",
       "      <td>1</td>\n",
       "      <td>...</td>\n",
       "      <td>0</td>\n",
       "      <td>1</td>\n",
       "      <td>0</td>\n",
       "      <td>0</td>\n",
       "      <td>0</td>\n",
       "      <td>1</td>\n",
       "      <td>0</td>\n",
       "      <td>0</td>\n",
       "      <td>0</td>\n",
       "      <td>1</td>\n",
       "    </tr>\n",
       "  </tbody>\n",
       "</table>\n",
       "<p>383 rows × 40 columns</p>\n",
       "</div>"
      ],
      "text/plain": [
       "     Age  Smoking  Hx Smoking  Hx Radiothreapy  Gender_M  \\\n",
       "0     27        0           0                0         0   \n",
       "1     34        0           1                0         0   \n",
       "2     30        0           0                0         0   \n",
       "3     62        0           0                0         0   \n",
       "4     62        0           0                0         0   \n",
       "..   ...      ...         ...              ...       ...   \n",
       "378   72        1           1                1         1   \n",
       "379   81        1           0                1         1   \n",
       "380   72        1           1                0         1   \n",
       "381   61        1           1                1         1   \n",
       "382   67        1           0                0         1   \n",
       "\n",
       "     Thyroid Function_Clinical Hypothyroidism  Thyroid Function_Euthyroid  \\\n",
       "0                                           0                           1   \n",
       "1                                           0                           1   \n",
       "2                                           0                           1   \n",
       "3                                           0                           1   \n",
       "4                                           0                           1   \n",
       "..                                        ...                         ...   \n",
       "378                                         0                           1   \n",
       "379                                         0                           1   \n",
       "380                                         0                           1   \n",
       "381                                         0                           0   \n",
       "382                                         0                           1   \n",
       "\n",
       "     Thyroid Function_Subclinical Hyperthyroidism  \\\n",
       "0                                               0   \n",
       "1                                               0   \n",
       "2                                               0   \n",
       "3                                               0   \n",
       "4                                               0   \n",
       "..                                            ...   \n",
       "378                                             0   \n",
       "379                                             0   \n",
       "380                                             0   \n",
       "381                                             0   \n",
       "382                                             0   \n",
       "\n",
       "     Thyroid Function_Subclinical Hypothyroidism  \\\n",
       "0                                              0   \n",
       "1                                              0   \n",
       "2                                              0   \n",
       "3                                              0   \n",
       "4                                              0   \n",
       "..                                           ...   \n",
       "378                                            0   \n",
       "379                                            0   \n",
       "380                                            0   \n",
       "381                                            0   \n",
       "382                                            0   \n",
       "\n",
       "     Physical Examination_Multinodular goiter  ...  N_N1a  N_N1b  M_M1  \\\n",
       "0                                           0  ...      0      0     0   \n",
       "1                                           1  ...      0      0     0   \n",
       "2                                           0  ...      0      0     0   \n",
       "3                                           0  ...      0      0     0   \n",
       "4                                           1  ...      0      0     0   \n",
       "..                                        ...  ...    ...    ...   ...   \n",
       "378                                         0  ...      0      1     1   \n",
       "379                                         1  ...      0      1     1   \n",
       "380                                         1  ...      0      1     1   \n",
       "381                                         1  ...      0      1     0   \n",
       "382                                         1  ...      0      1     0   \n",
       "\n",
       "     Stage_II  Stage_III  Stage_IVA  Stage_IVB  Response_Excellent  \\\n",
       "0           0          0          0          0                   0   \n",
       "1           0          0          0          0                   1   \n",
       "2           0          0          0          0                   1   \n",
       "3           0          0          0          0                   1   \n",
       "4           0          0          0          0                   1   \n",
       "..        ...        ...        ...        ...                 ...   \n",
       "378         0          0          0          1                   0   \n",
       "379         0          0          0          1                   0   \n",
       "380         0          0          0          1                   0   \n",
       "381         0          0          1          0                   0   \n",
       "382         0          0          1          0                   0   \n",
       "\n",
       "     Response_Indeterminate  Response_Structural Incomplete  \n",
       "0                         1                               0  \n",
       "1                         0                               0  \n",
       "2                         0                               0  \n",
       "3                         0                               0  \n",
       "4                         0                               0  \n",
       "..                      ...                             ...  \n",
       "378                       0                               0  \n",
       "379                       0                               1  \n",
       "380                       0                               1  \n",
       "381                       0                               1  \n",
       "382                       0                               1  \n",
       "\n",
       "[383 rows x 40 columns]"
      ]
     },
     "execution_count": 70,
     "metadata": {},
     "output_type": "execute_result"
    }
   ],
   "source": [
    "X"
   ]
  },
  {
   "cell_type": "markdown",
   "id": "cbeeddf8",
   "metadata": {},
   "source": [
    "<h4>Use components such that 95% of variance is retained</h4>"
   ]
  },
  {
   "cell_type": "code",
   "execution_count": 71,
   "id": "76c4acf9",
   "metadata": {},
   "outputs": [
    {
     "data": {
      "text/plain": [
       "(383, 1)"
      ]
     },
     "execution_count": 71,
     "metadata": {},
     "output_type": "execute_result"
    }
   ],
   "source": [
    "from sklearn.decomposition import PCA\n",
    "\n",
    "pca = PCA(0.95)\n",
    "X_pca = pca.fit_transform(X)\n",
    "X_pca.shape"
   ]
  },
  {
   "cell_type": "code",
   "execution_count": 72,
   "id": "72f7bd7d",
   "metadata": {},
   "outputs": [
    {
     "data": {
      "text/plain": [
       "array([0.98302939])"
      ]
     },
     "execution_count": 72,
     "metadata": {},
     "output_type": "execute_result"
    }
   ],
   "source": [
    "pca.explained_variance_ratio_"
   ]
  },
  {
   "cell_type": "code",
   "execution_count": 73,
   "id": "d9d7593c",
   "metadata": {},
   "outputs": [
    {
     "data": {
      "text/plain": [
       "1"
      ]
     },
     "execution_count": 73,
     "metadata": {},
     "output_type": "execute_result"
    }
   ],
   "source": [
    "pca.n_components_"
   ]
  },
  {
   "cell_type": "markdown",
   "id": "3fc60ef1",
   "metadata": {},
   "source": [
    "**PCA created 1 component out of 13 original columns**"
   ]
  },
  {
   "cell_type": "code",
   "execution_count": 74,
   "id": "22d4d502",
   "metadata": {},
   "outputs": [
    {
     "data": {
      "text/plain": [
       "array([[-13.8608488 ],\n",
       "       [ -6.86745975],\n",
       "       [-10.87507382],\n",
       "       [ 21.117077  ],\n",
       "       [ 21.13046053],\n",
       "       [ 11.15446373],\n",
       "       [  0.12518534],\n",
       "       [  5.12100159],\n",
       "       [ 10.11977515],\n",
       "       [ -0.87752669],\n",
       "       [ 34.11388827],\n",
       "       [ 18.12140723],\n",
       "       [  8.12654157],\n",
       "       [  9.12693422],\n",
       "       [ 35.11401288],\n",
       "       [  1.13187752],\n",
       "       [ -0.87520731],\n",
       "       [  3.13766279],\n",
       "       [  2.12801329],\n",
       "       [ 11.14280819],\n",
       "       [  0.12582239],\n",
       "       [  3.12508653],\n",
       "       [ -4.87654554],\n",
       "       [ 29.1151147 ],\n",
       "       [ 19.13095111],\n",
       "       [ -7.87580968],\n",
       "       [  2.13013121],\n",
       "       [-14.86569276],\n",
       "       [  0.12222802],\n",
       "       [ -3.87020585],\n",
       "       [ -3.87319646],\n",
       "       [-10.87205358],\n",
       "       [ -4.87654554],\n",
       "       [ 14.12506985],\n",
       "       [ 11.13477978],\n",
       "       [ -3.87131315],\n",
       "       [ -9.87166986],\n",
       "       [  2.13992652],\n",
       "       [ -0.87752669],\n",
       "       [ -6.87304366],\n",
       "       [ 10.11977515],\n",
       "       [  4.12484125],\n",
       "       [-20.87262095],\n",
       "       [ -2.87076028],\n",
       "       [ -2.87338687],\n",
       "       [ -7.86953384],\n",
       "       [ -9.85959572],\n",
       "       [ -9.85718919],\n",
       "       [-14.852226  ],\n",
       "       [-11.87301684],\n",
       "       [  2.11885105],\n",
       "       [-10.87087918],\n",
       "       [-15.86964659],\n",
       "       [-13.87724485],\n",
       "       [-15.87943575],\n",
       "       [-19.87215419],\n",
       "       [  2.11487409],\n",
       "       [-17.87894518],\n",
       "       [-17.87830724],\n",
       "       [  2.12604387],\n",
       "       [-16.87438492],\n",
       "       [ -5.88548299],\n",
       "       [ 13.11345093],\n",
       "       [ 13.12602719],\n",
       "       [-18.88230042],\n",
       "       [ -2.87283532],\n",
       "       [ -5.88548299],\n",
       "       [ 10.11418679],\n",
       "       [-18.86410518],\n",
       "       [ 10.11418679],\n",
       "       [ -0.88670943],\n",
       "       [ 28.10977163],\n",
       "       [ -9.88450184],\n",
       "       [-11.88401127],\n",
       "       [-10.88425656],\n",
       "       [-12.87749014],\n",
       "       [-18.88192436],\n",
       "       [-11.88401127],\n",
       "       [ -5.88188862],\n",
       "       [  9.12422124],\n",
       "       [-13.87987145],\n",
       "       [-23.87874845],\n",
       "       [-13.88352685],\n",
       "       [ -0.87763178],\n",
       "       [ -7.86027634],\n",
       "       [-15.87914437],\n",
       "       [ 32.10519611],\n",
       "       [ -4.86244996],\n",
       "       [ -5.84690446],\n",
       "       [ -9.83426778],\n",
       "       [-22.85611812],\n",
       "       [ 21.14295046],\n",
       "       [ 21.11097986],\n",
       "       [ -1.87047244],\n",
       "       [ -3.8721859 ],\n",
       "       [-14.87787658],\n",
       "       [ -9.86792708],\n",
       "       [-16.88129801],\n",
       "       [ 16.12373336],\n",
       "       [-12.88227916],\n",
       "       [  3.12545179],\n",
       "       [  1.12777599],\n",
       "       [-13.88203387],\n",
       "       [ 10.10736066],\n",
       "       [ -7.88803847],\n",
       "       [  1.10956824],\n",
       "       [-14.88023133],\n",
       "       [-16.88242222],\n",
       "       [ 19.11853661],\n",
       "       [ 19.11369487],\n",
       "       [ -9.8877336 ],\n",
       "       [ 25.10368136],\n",
       "       [  3.11267204],\n",
       "       [ -8.88797889],\n",
       "       [-14.87312363],\n",
       "       [ -3.88920532],\n",
       "       [ -7.8846298 ],\n",
       "       [-17.86249299],\n",
       "       [  6.10834181],\n",
       "       [-12.88699774],\n",
       "       [ -3.88920532],\n",
       "       [-14.88023133],\n",
       "       [-12.88340337],\n",
       "       [-12.88699774],\n",
       "       [  3.11535351],\n",
       "       [ -9.88559842],\n",
       "       [-13.88638256],\n",
       "       [ 15.11467602],\n",
       "       [ 22.10801159],\n",
       "       [-16.87388043],\n",
       "       [-10.88389394],\n",
       "       [ -9.88413923],\n",
       "       [ -8.88797889],\n",
       "       [-12.87297627],\n",
       "       [ 10.11595588],\n",
       "       [-20.88503545],\n",
       "       [-19.88528073],\n",
       "       [ -8.88797889],\n",
       "       [-14.88023133],\n",
       "       [  1.12170441],\n",
       "       [-12.8807219 ],\n",
       "       [  0.10981353],\n",
       "       [  1.11584408],\n",
       "       [  8.11017061],\n",
       "       [-11.88364866],\n",
       "       [-11.88724303],\n",
       "       [-15.87009125],\n",
       "       [  0.11970832],\n",
       "       [ -7.88194834],\n",
       "       [-13.88047661],\n",
       "       [  9.11120032],\n",
       "       [-21.88479016],\n",
       "       [ -5.88871475],\n",
       "       [ 22.11534131],\n",
       "       [-16.88601659],\n",
       "       [ -4.88896004],\n",
       "       [ -9.87248369],\n",
       "       [-16.88121105],\n",
       "       [ -7.88822418],\n",
       "       [-16.87974075],\n",
       "       [-12.88662784],\n",
       "       [-18.88552602],\n",
       "       [-13.88675246],\n",
       "       [-12.87710295],\n",
       "       [-11.87654096],\n",
       "       [ -0.87655765],\n",
       "       [ -9.8877336 ],\n",
       "       [ 14.10997388],\n",
       "       [-19.88528073],\n",
       "       [ -0.87200981],\n",
       "       [ -2.88945061],\n",
       "       [-19.88168636],\n",
       "       [ -9.87607806],\n",
       "       [-10.87521123],\n",
       "       [  9.12377658],\n",
       "       [ -6.88219362],\n",
       "       [  4.11510822],\n",
       "       [ 11.11339121],\n",
       "       [ -2.88945061],\n",
       "       [ 26.12847514],\n",
       "       [ 31.11398772],\n",
       "       [  4.12221591],\n",
       "       [  4.13075771],\n",
       "       [-14.88023133],\n",
       "       [ 26.10703044],\n",
       "       [ 15.10613422],\n",
       "       [-10.88748832],\n",
       "       [ -6.88219362],\n",
       "       [  9.10760595],\n",
       "       [  1.11584408],\n",
       "       [ -5.87533122],\n",
       "       [-17.87238777],\n",
       "       [  3.1224612 ],\n",
       "       [-17.88259387],\n",
       "       [-14.88650717],\n",
       "       [ 20.11519101],\n",
       "       [-18.88552602],\n",
       "       [ -9.88408436],\n",
       "       [ 27.10684003],\n",
       "       [ 16.11492679],\n",
       "       [-13.87121965],\n",
       "       [-15.87718912],\n",
       "       [-20.85373615],\n",
       "       [ -7.88126936],\n",
       "       [ -4.88699496],\n",
       "       [ -4.87710018],\n",
       "       [ -0.86296057],\n",
       "       [-23.85708624],\n",
       "       [-16.85861303],\n",
       "       [ -2.8713002 ],\n",
       "       [-12.86967918],\n",
       "       [ -4.86802253],\n",
       "       [  9.12854345],\n",
       "       [ 10.13374165],\n",
       "       [ 14.15195388],\n",
       "       [ -9.88852111],\n",
       "       [ -7.878747  ],\n",
       "       [-12.87040253],\n",
       "       [  7.13426442],\n",
       "       [ -0.8907287 ],\n",
       "       [-11.87185991],\n",
       "       [-20.87046947],\n",
       "       [ -5.87254412],\n",
       "       [ 15.1202865 ],\n",
       "       [-20.86626183],\n",
       "       [ 21.11985004],\n",
       "       [-23.86292329],\n",
       "       [-19.86916339],\n",
       "       [-20.85503491],\n",
       "       [ -0.83709971],\n",
       "       [ -2.83689717],\n",
       "       [-19.85672411],\n",
       "       [ -9.85917698],\n",
       "       [ -6.86327447],\n",
       "       [ 19.14633901],\n",
       "       [ 19.14421838],\n",
       "       [ 21.1437278 ],\n",
       "       [ -4.85905579],\n",
       "       [-11.8579278 ],\n",
       "       [ -7.86299052],\n",
       "       [ 34.15851469],\n",
       "       [ 21.12362032],\n",
       "       [ 15.1257574 ],\n",
       "       [ 11.13444832],\n",
       "       [ -5.87400424],\n",
       "       [ -6.85085197],\n",
       "       [ -8.86048126],\n",
       "       [-13.86516077],\n",
       "       [ 11.15535701],\n",
       "       [  5.13340325],\n",
       "       [-10.87089159],\n",
       "       [ -8.85486672],\n",
       "       [-15.85972509],\n",
       "       [ -2.85500997],\n",
       "       [ -9.84775421],\n",
       "       [ -3.8743009 ],\n",
       "       [-19.85137292],\n",
       "       [ -6.87707836],\n",
       "       [-10.8640421 ],\n",
       "       [  7.13289573],\n",
       "       [ -9.86117364],\n",
       "       [ 11.13550896],\n",
       "       [ -2.87537804],\n",
       "       [  0.12471795],\n",
       "       [  0.13953559],\n",
       "       [ 29.13109379],\n",
       "       [-21.86360989],\n",
       "       [  0.12601018],\n",
       "       [ -8.87658778],\n",
       "       [ -5.8576397 ],\n",
       "       [ -1.86841   ],\n",
       "       [  4.12022349],\n",
       "       [  5.13698068],\n",
       "       [  4.13759587],\n",
       "       [-12.85405631],\n",
       "       [ -9.86523654],\n",
       "       [ 40.12794493],\n",
       "       [  0.1517685 ],\n",
       "       [ 15.16425983],\n",
       "       [  6.1461054 ],\n",
       "       [ -3.86761236],\n",
       "       [ -8.84917918],\n",
       "       [ 12.1399151 ],\n",
       "       [-10.85991187],\n",
       "       [ -6.87159508],\n",
       "       [ 21.15521371],\n",
       "       [ 17.15791549],\n",
       "       [ 14.15810037],\n",
       "       [-19.86481686],\n",
       "       [-13.85452947],\n",
       "       [  5.15331228],\n",
       "       [  3.14130066],\n",
       "       [-11.87705637],\n",
       "       [-14.85255056],\n",
       "       [  1.14934644],\n",
       "       [ 15.1360914 ],\n",
       "       [ 10.13350472],\n",
       "       [ 20.12854478],\n",
       "       [  1.14343048],\n",
       "       [ -6.86024462],\n",
       "       [ 26.14956105],\n",
       "       [ 22.14266758],\n",
       "       [ 26.15828882],\n",
       "       [ 32.14602946],\n",
       "       [-14.8468531 ],\n",
       "       [-10.84822075],\n",
       "       [ -4.84975647],\n",
       "       [ -9.83875094],\n",
       "       [ -0.84984177],\n",
       "       [  8.14084296],\n",
       "       [ -2.8359201 ],\n",
       "       [-13.85115332],\n",
       "       [-13.83296425],\n",
       "       [ -7.85373524],\n",
       "       [ -8.84451784],\n",
       "       [-11.84086777],\n",
       "       [ -3.83541712],\n",
       "       [  7.15707919],\n",
       "       [-10.83850565],\n",
       "       [ -7.84154366],\n",
       "       [ 39.15395937],\n",
       "       [ 21.15780038],\n",
       "       [ 22.16293479],\n",
       "       [ 19.15942806],\n",
       "       [ 38.16363596],\n",
       "       [ 24.15638082],\n",
       "       [ -5.85716259],\n",
       "       [ 17.15177146],\n",
       "       [ -6.86569442],\n",
       "       [ 15.14350388],\n",
       "       [ 11.15942354],\n",
       "       [ 10.14670027],\n",
       "       [ -9.85479198],\n",
       "       [  3.16904233],\n",
       "       [-25.83871989],\n",
       "       [-11.83547651],\n",
       "       [ 12.16065829],\n",
       "       [  4.15229343],\n",
       "       [ -2.83722216],\n",
       "       [  7.15711014],\n",
       "       [  1.14857352],\n",
       "       [-17.85454441],\n",
       "       [-18.84323496],\n",
       "       [  3.1513913 ],\n",
       "       [ -9.86667994],\n",
       "       [-15.84126678],\n",
       "       [ -8.83301873],\n",
       "       [ 41.15338085],\n",
       "       [ 17.16010312],\n",
       "       [ 27.1656036 ],\n",
       "       [ -3.83746491],\n",
       "       [ 18.1693233 ],\n",
       "       [-19.84829381],\n",
       "       [ 32.14314799],\n",
       "       [ -5.82653588],\n",
       "       [ -8.8621089 ],\n",
       "       [ 13.17694202],\n",
       "       [-14.82700432],\n",
       "       [ 12.14617195],\n",
       "       [ -5.84171947],\n",
       "       [  8.16167374],\n",
       "       [ -6.8491676 ],\n",
       "       [ 39.1501194 ],\n",
       "       [ 26.14497061],\n",
       "       [ 27.15922979],\n",
       "       [ 30.16280856],\n",
       "       [ 23.16267642],\n",
       "       [ 39.16859948],\n",
       "       [ 15.15963135],\n",
       "       [ 30.16873093],\n",
       "       [ 37.17310226],\n",
       "       [ 10.16108096],\n",
       "       [ 26.15183142],\n",
       "       [ -9.82013456],\n",
       "       [ 21.16683544],\n",
       "       [ 18.15652722],\n",
       "       [ -0.83087813],\n",
       "       [  5.1726429 ],\n",
       "       [ 31.15057908],\n",
       "       [ 40.16563185],\n",
       "       [ 31.17061412],\n",
       "       [ 20.17361827],\n",
       "       [ 26.16332718]])"
      ]
     },
     "execution_count": 74,
     "metadata": {},
     "output_type": "execute_result"
    }
   ],
   "source": [
    "X_pca"
   ]
  },
  {
   "cell_type": "code",
   "execution_count": 75,
   "id": "0022ea23",
   "metadata": {},
   "outputs": [],
   "source": [
    "X_train_pca, X_test_pca, y_train, y_test = train_test_split(X_pca, y, test_size=0.25, random_state=30)"
   ]
  },
  {
   "cell_type": "code",
   "execution_count": 76,
   "id": "ad69ed79",
   "metadata": {},
   "outputs": [
    {
     "data": {
      "text/plain": [
       "0.7604166666666666"
      ]
     },
     "execution_count": 76,
     "metadata": {},
     "output_type": "execute_result"
    }
   ],
   "source": [
    "model = LogisticRegression(max_iter=1000)\n",
    "model.fit(X_train_pca, y_train)\n",
    "model.score(X_test_pca, y_test)"
   ]
  },
  {
   "cell_type": "code",
   "execution_count": 77,
   "id": "5c60cd13",
   "metadata": {},
   "outputs": [
    {
     "data": {
      "text/plain": [
       "0.78125"
      ]
     },
     "execution_count": 77,
     "metadata": {},
     "output_type": "execute_result"
    }
   ],
   "source": [
    "model = RandomForestClassifier()\n",
    "model.fit(X_train_pca, y_train)\n",
    "model.score(X_test_pca, y_test)"
   ]
  },
  {
   "cell_type": "code",
   "execution_count": 78,
   "id": "4ac177ce",
   "metadata": {},
   "outputs": [
    {
     "data": {
      "text/plain": [
       "0.7604166666666666"
      ]
     },
     "execution_count": 78,
     "metadata": {},
     "output_type": "execute_result"
    }
   ],
   "source": [
    "model = SVC()\n",
    "model.fit(X_train_pca, y_train)\n",
    "model.score(X_test_pca, y_test)"
   ]
  },
  {
   "cell_type": "markdown",
   "id": "c23a9c82",
   "metadata": {},
   "source": [
    "**Let's now select calibrate the number of components to find the best score**"
   ]
  },
  {
   "cell_type": "code",
   "execution_count": 255,
   "id": "ccce984b",
   "metadata": {},
   "outputs": [
    {
     "data": {
      "text/plain": [
       "(383, 7)"
      ]
     },
     "execution_count": 255,
     "metadata": {},
     "output_type": "execute_result"
    }
   ],
   "source": [
    "pca = PCA(n_components=7)\n",
    "X_pca = pca.fit_transform(X)\n",
    "X_pca.shape"
   ]
  },
  {
   "cell_type": "code",
   "execution_count": 256,
   "id": "0323aa07",
   "metadata": {},
   "outputs": [
    {
     "data": {
      "text/plain": [
       "array([[-1.38608488e+01, -2.82903449e-01, -1.08859427e+00, ...,\n",
       "         3.74430688e-01,  4.43694624e-01,  9.44311285e-01],\n",
       "       [-6.86745975e+00, -6.17548031e-01, -1.09466455e+00, ...,\n",
       "        -3.92878924e-01, -7.89818768e-01,  4.40842060e-01],\n",
       "       [-1.08750738e+01, -9.15792920e-01, -3.10527388e-01, ...,\n",
       "        -4.73456382e-01, -7.49220126e-01,  3.36885149e-01],\n",
       "       ...,\n",
       "       [ 3.11706141e+01,  1.20815291e+00,  6.89911708e-02, ...,\n",
       "         7.57090015e-01, -1.07875068e+00,  8.65396986e-02],\n",
       "       [ 2.01736183e+01,  1.12786593e+00, -5.29117559e-01, ...,\n",
       "         5.30153204e-01, -1.35887200e+00,  9.29352383e-01],\n",
       "       [ 2.61633272e+01,  1.20791911e+00,  2.34821243e-02, ...,\n",
       "         5.58763014e-01, -8.16542352e-01,  2.15983185e-02]])"
      ]
     },
     "execution_count": 256,
     "metadata": {},
     "output_type": "execute_result"
    }
   ],
   "source": [
    "X_pca"
   ]
  },
  {
   "cell_type": "code",
   "execution_count": 257,
   "id": "4e790bcc",
   "metadata": {},
   "outputs": [
    {
     "data": {
      "text/plain": [
       "array([9.83029390e-01, 3.91139255e-03, 1.63316677e-03, 1.44631517e-03,\n",
       "       1.20022128e-03, 1.11194617e-03, 8.82950214e-04])"
      ]
     },
     "execution_count": 257,
     "metadata": {},
     "output_type": "execute_result"
    }
   ],
   "source": [
    "pca.explained_variance_ratio_"
   ]
  },
  {
   "cell_type": "code",
   "execution_count": 258,
   "id": "10547eea",
   "metadata": {},
   "outputs": [
    {
     "data": {
      "text/plain": [
       "0.90625"
      ]
     },
     "execution_count": 258,
     "metadata": {},
     "output_type": "execute_result"
    }
   ],
   "source": [
    "X_train_pca, X_test_pca, y_train, y_test = train_test_split(X_pca, y, test_size=0.25, random_state=30)\n",
    "model = LogisticRegression()\n",
    "model.fit(X_train_pca, y_train)\n",
    "model.score(X_test_pca, y_test)"
   ]
  },
  {
   "cell_type": "code",
   "execution_count": 259,
   "id": "2dd61aa5",
   "metadata": {},
   "outputs": [
    {
     "data": {
      "text/plain": [
       "0.9270833333333334"
      ]
     },
     "execution_count": 259,
     "metadata": {},
     "output_type": "execute_result"
    }
   ],
   "source": [
    "model = RandomForestClassifier()\n",
    "model.fit(X_train_pca, y_train)\n",
    "model.score(X_test_pca, y_test)"
   ]
  },
  {
   "cell_type": "code",
   "execution_count": 260,
   "id": "25c88705",
   "metadata": {},
   "outputs": [
    {
     "data": {
      "text/plain": [
       "0.7916666666666666"
      ]
     },
     "execution_count": 260,
     "metadata": {},
     "output_type": "execute_result"
    }
   ],
   "source": [
    "model = SVC()\n",
    "model.fit(X_train_pca, y_train)\n",
    "model.score(X_test_pca, y_test)"
   ]
  },
  {
   "cell_type": "markdown",
   "id": "e8897367",
   "metadata": {},
   "source": [
    "We get less accuancy as using only 1 components (PCA default components for retaining 95% of the information) did not retain much of the feature information. That is why we opted for 7 components as it has great accuracy with less processing time as an optimal case"
   ]
  }
 ],
 "metadata": {
  "kernelspec": {
   "display_name": "Python 3 (ipykernel)",
   "language": "python",
   "name": "python3"
  },
  "language_info": {
   "codemirror_mode": {
    "name": "ipython",
    "version": 3
   },
   "file_extension": ".py",
   "mimetype": "text/x-python",
   "name": "python",
   "nbconvert_exporter": "python",
   "pygments_lexer": "ipython3",
   "version": "3.11.5"
  }
 },
 "nbformat": 4,
 "nbformat_minor": 5
}
